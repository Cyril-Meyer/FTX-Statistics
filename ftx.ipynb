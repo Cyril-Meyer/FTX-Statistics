{
 "cells": [
  {
   "cell_type": "code",
   "execution_count": 1,
   "id": "b2dc135c-16c7-4e67-af47-32060ede62df",
   "metadata": {},
   "outputs": [],
   "source": [
    "import datetime\n",
    "import matplotlib.pyplot as plt\n",
    "import numpy as np\n",
    "import pandas as pd\n",
    "import ftx"
   ]
  },
  {
   "cell_type": "code",
   "execution_count": 2,
   "id": "2629861e-4d8f-412a-b6ec-b6488cae6e91",
   "metadata": {},
   "outputs": [
    {
     "data": {
      "text/html": [
       "<div>\n",
       "<style scoped>\n",
       "    .dataframe tbody tr th:only-of-type {\n",
       "        vertical-align: middle;\n",
       "    }\n",
       "\n",
       "    .dataframe tbody tr th {\n",
       "        vertical-align: top;\n",
       "    }\n",
       "\n",
       "    .dataframe thead th {\n",
       "        text-align: right;\n",
       "    }\n",
       "</style>\n",
       "<table border=\"1\" class=\"dataframe\">\n",
       "  <thead>\n",
       "    <tr style=\"text-align: right;\">\n",
       "      <th></th>\n",
       "      <th>ID</th>\n",
       "      <th>Time</th>\n",
       "      <th>Market</th>\n",
       "      <th>Side</th>\n",
       "      <th>Order Type</th>\n",
       "      <th>Size</th>\n",
       "      <th>Price</th>\n",
       "      <th>Total</th>\n",
       "      <th>Fee</th>\n",
       "      <th>Fee Currency</th>\n",
       "    </tr>\n",
       "  </thead>\n",
       "  <tbody>\n",
       "  </tbody>\n",
       "</table>\n",
       "</div>"
      ],
      "text/plain": [
       "Empty DataFrame\n",
       "Columns: [ID, Time, Market, Side, Order Type, Size, Price, Total, Fee, Fee Currency]\n",
       "Index: []"
      ]
     },
     "execution_count": 2,
     "metadata": {},
     "output_type": "execute_result"
    }
   ],
   "source": [
    "df = pd.read_csv('trades_1.csv')\n",
    "df = df.iloc[::-1]\n",
    "df.head(0)"
   ]
  },
  {
   "cell_type": "code",
   "execution_count": 3,
   "id": "d4d0cd36-31f0-482a-b2bf-3768de12bf2a",
   "metadata": {},
   "outputs": [
    {
     "data": {
      "text/html": [
       "<div>\n",
       "<style scoped>\n",
       "    .dataframe tbody tr th:only-of-type {\n",
       "        vertical-align: middle;\n",
       "    }\n",
       "\n",
       "    .dataframe tbody tr th {\n",
       "        vertical-align: top;\n",
       "    }\n",
       "\n",
       "    .dataframe thead th {\n",
       "        text-align: right;\n",
       "    }\n",
       "</style>\n",
       "<table border=\"1\" class=\"dataframe\">\n",
       "  <thead>\n",
       "    <tr style=\"text-align: right;\">\n",
       "      <th></th>\n",
       "      <th></th>\n",
       "      <th>Time</th>\n",
       "      <th>Coin</th>\n",
       "      <th>Amount</th>\n",
       "      <th>Status</th>\n",
       "      <th>Additional info</th>\n",
       "      <th>Transaction ID</th>\n",
       "      <th>.1</th>\n",
       "    </tr>\n",
       "  </thead>\n",
       "  <tbody>\n",
       "  </tbody>\n",
       "</table>\n",
       "</div>"
      ],
      "text/plain": [
       "Empty DataFrame\n",
       "Columns: [ , Time, Coin, Amount, Status, Additional info, Transaction ID,  .1]\n",
       "Index: []"
      ]
     },
     "execution_count": 3,
     "metadata": {},
     "output_type": "execute_result"
    }
   ],
   "source": [
    "df_deposits = pd.read_csv('deposits.csv')\n",
    "df_deposits = df_deposits.iloc[::-1]\n",
    "df_deposits.head(0)"
   ]
  },
  {
   "cell_type": "code",
   "execution_count": 4,
   "id": "35614658-6e51-4e99-9c6d-c5ec3af98094",
   "metadata": {},
   "outputs": [
    {
     "data": {
      "text/html": [
       "<div>\n",
       "<style scoped>\n",
       "    .dataframe tbody tr th:only-of-type {\n",
       "        vertical-align: middle;\n",
       "    }\n",
       "\n",
       "    .dataframe tbody tr th {\n",
       "        vertical-align: top;\n",
       "    }\n",
       "\n",
       "    .dataframe thead th {\n",
       "        text-align: right;\n",
       "    }\n",
       "</style>\n",
       "<table border=\"1\" class=\"dataframe\">\n",
       "  <thead>\n",
       "    <tr style=\"text-align: right;\">\n",
       "      <th></th>\n",
       "      <th>Time</th>\n",
       "      <th>Coin</th>\n",
       "      <th>Amount</th>\n",
       "      <th>Destination</th>\n",
       "      <th>Status</th>\n",
       "      <th>Transaction ID</th>\n",
       "      <th>fee</th>\n",
       "      <th></th>\n",
       "    </tr>\n",
       "  </thead>\n",
       "  <tbody>\n",
       "  </tbody>\n",
       "</table>\n",
       "</div>"
      ],
      "text/plain": [
       "Empty DataFrame\n",
       "Columns: [Time, Coin, Amount, Destination, Status, Transaction ID, fee,  ]\n",
       "Index: []"
      ]
     },
     "execution_count": 4,
     "metadata": {},
     "output_type": "execute_result"
    }
   ],
   "source": [
    "df_withdrawals = pd.read_csv('withdrawals.csv')\n",
    "df_withdrawals = df_withdrawals.iloc[::-1]\n",
    "df_withdrawals.head(0)"
   ]
  },
  {
   "cell_type": "code",
   "execution_count": 5,
   "id": "5f9adf9d-5ff3-4e80-b8c2-b58b1bb78ef4",
   "metadata": {},
   "outputs": [],
   "source": [
    "wallet = {}\n",
    "\n",
    "for index, row in df.iterrows():\n",
    "    # spot\n",
    "    if '/' in row.Market:\n",
    "        asset, currency = row.Market.split('/')\n",
    "\n",
    "        if currency not in wallet.keys():\n",
    "            wallet[currency] = 0\n",
    "        if asset not in wallet.keys():\n",
    "            wallet[asset] = 0\n",
    "\n",
    "        if row.Side == 'buy':\n",
    "            wallet[currency] -= row.Total\n",
    "            wallet[asset] += row.Size\n",
    "        elif row.Side == 'sell':\n",
    "            wallet[currency] += row.Total\n",
    "            wallet[asset] -= row.Size\n",
    "        else:\n",
    "            raise ValueError\n",
    "\n",
    "        wallet[row['Fee Currency']] -= row.Fee\n",
    "    # derivative\n",
    "    elif '-' in row.Market:\n",
    "        assert(row['Fee Currency'] == 'USD')\n",
    "        \n",
    "        if row.Market not in wallet.keys():\n",
    "            wallet[row.Market] = 0\n",
    "            \n",
    "        if row.Side == 'buy':\n",
    "            wallet['USD'] -= row.Total\n",
    "            wallet[row.Market] += row.Size\n",
    "        elif row.Side == 'sell':\n",
    "            wallet['USD'] += row.Total\n",
    "            wallet[row.Market] -= row.Size\n",
    "        else:\n",
    "            raise ValueError\n",
    "            \n",
    "        wallet[row['Fee Currency']] -= row.Fee\n",
    "    else:\n",
    "        print(\"ERROR:\")\n",
    "        print(row)\n",
    "        raise NotImplementedError\n",
    "        "
   ]
  },
  {
   "cell_type": "code",
   "execution_count": 6,
   "id": "de29f623-3910-4369-b4f9-0212985c6170",
   "metadata": {},
   "outputs": [],
   "source": [
    "wallet_derivative = {'USD' : 0}\n",
    "\n",
    "for index, row in df.iterrows():\n",
    "    # derivative\n",
    "    if '-' in row.Market:\n",
    "        if row.Market not in wallet_derivative.keys():\n",
    "            wallet_derivative[row.Market] = 0\n",
    "\n",
    "        assert(row['Fee Currency'] == 'USD')\n",
    "            \n",
    "        if row.Side == 'buy':\n",
    "            wallet_derivative['USD'] -= row.Total\n",
    "            wallet_derivative[row.Market] += row.Size\n",
    "        elif row.Side == 'sell':\n",
    "            wallet_derivative['USD'] += row.Total\n",
    "            wallet_derivative[row.Market] -= row.Size\n",
    "        else:\n",
    "            raise ValueError\n",
    "            \n",
    "        wallet_derivative[row['Fee Currency']] -= row.Fee\n"
   ]
  },
  {
   "cell_type": "code",
   "execution_count": 7,
   "id": "77ff2d8f-9304-45de-b575-42d35c211484",
   "metadata": {},
   "outputs": [],
   "source": [
    "wallet_fee = {}\n",
    "\n",
    "for index, row in df.iterrows():\n",
    "    # spot\n",
    "    if '/' in row.Market:\n",
    "        asset, currency = row.Market.split('/')\n",
    "\n",
    "        if currency not in wallet_fee.keys():\n",
    "            wallet_fee[currency] = 0\n",
    "        if asset not in wallet_fee.keys():\n",
    "            wallet_fee[asset] = 0\n",
    "\n",
    "        wallet_fee[row['Fee Currency']] -= row.Fee\n",
    "    # derivative\n",
    "    elif '-' in row.Market:\n",
    "        assert(row['Fee Currency'] == 'USD')\n",
    "        \n",
    "        if row.Market not in wallet_fee.keys():\n",
    "            wallet_fee[row.Market] = 0\n",
    "            \n",
    "        wallet_fee[row['Fee Currency']] -= row.Fee\n",
    "    else:\n",
    "        print(\"ERROR:\")\n",
    "        print(row)\n",
    "        raise NotImplementedError\n",
    "        "
   ]
  },
  {
   "cell_type": "code",
   "execution_count": 8,
   "id": "00dd6652-fd17-42f5-b44d-fd2f0d24c3e0",
   "metadata": {},
   "outputs": [],
   "source": [
    "wallet_out = {}\n",
    "\n",
    "for index, row in df_deposits.iterrows():\n",
    "    if row.Coin not in wallet.keys():\n",
    "        wallet[row.Coin] = 0\n",
    "    if row.Coin not in wallet_out.keys():\n",
    "        wallet_out[row.Coin] = 0\n",
    "        \n",
    "    wallet[row.Coin] += row.Amount\n",
    "    wallet_out[row.Coin] -= row.Amount\n",
    "    \n",
    "    \n",
    "for index, row in df_withdrawals.iterrows():\n",
    "    if row.Coin not in wallet.keys():\n",
    "        wallet[row.Coin] = 0\n",
    "    if row.Coin not in wallet_out.keys():\n",
    "        wallet_out[row.Coin] = 0\n",
    "        \n",
    "    wallet[row.Coin] -= row.Amount\n",
    "    wallet_out[row.Coin] += row.Amount - row.fee"
   ]
  },
  {
   "cell_type": "code",
   "execution_count": 9,
   "id": "ef2a961a-81f1-4c11-b099-9c398faf6cc0",
   "metadata": {},
   "outputs": [],
   "source": [
    "epsilon = 1e-4\n",
    "wallet = {key:val for key, val in wallet.items() if val > epsilon or val < -epsilon}\n",
    "wallet_derivative = {key:val for key, val in wallet_derivative.items() if val > epsilon or val < -epsilon}\n",
    "wallet_fee = {key:val for key, val in wallet_fee.items() if val > epsilon or val < -epsilon}\n",
    "wallet_out = {key:val for key, val in wallet_out.items() if val > epsilon or val < -epsilon}"
   ]
  },
  {
   "cell_type": "code",
   "execution_count": 10,
   "id": "1b5dc80e-c4b7-412c-80bc-0d4b2291a63d",
   "metadata": {},
   "outputs": [
    {
     "data": {
      "text/plain": [
       "{'USDT': -0.03696568018176549,\n",
       " 'AAVE': 0.9977752944999994,\n",
       " 'BNB': 0.9064604055000008,\n",
       " 'ETH': -0.00021970874999974188,\n",
       " 'FTT': 61.80568018600802,\n",
       " 'LINK': 3.1977375550000042,\n",
       " 'RUNE': -0.05097337499999721,\n",
       " 'SOL': 4.957125663212599,\n",
       " 'USD': -7186.629114309308,\n",
       " 'MATIC': 99.92304596000001,\n",
       " 'DOGE': 362.0,\n",
       " 'XRP': 7.709141810000034,\n",
       " 'EUR': 1300.0000000095606,\n",
       " 'CEL': -0.00036904999999887167,\n",
       " 'ATOM-PERP': 149.47,\n",
       " 'BTC-PERP': 0.1,\n",
       " 'AR-PERP': 102.70000000000002,\n",
       " 'C98-PERP': 55.0,\n",
       " '1INCH': -0.17808443000000018,\n",
       " 'GRT': 384.0,\n",
       " 'RAY': 5.0,\n",
       " 'AVAX': 2.2998609599999997,\n",
       " 'KNC': -0.12871024000000142,\n",
       " 'FTM': -0.028182269999998334,\n",
       " 'USO': 0.00018645000000000814,\n",
       " 'LUNC': -41743.76898033498,\n",
       " 'ATOM': -0.00131988,\n",
       " 'COIN': 0.5,\n",
       " 'LOOKS-PERP': 1952.0,\n",
       " 'APE': 7.4,\n",
       " 'GMT-PERP': 871.0,\n",
       " 'BTC-MOVE-WK-0617': -0.1513,\n",
       " 'BTC-MOVE-0611': -0.41140000000000004}"
      ]
     },
     "execution_count": 10,
     "metadata": {},
     "output_type": "execute_result"
    }
   ],
   "source": [
    "wallet"
   ]
  },
  {
   "cell_type": "code",
   "execution_count": 11,
   "id": "acc5abd3-943f-4a9d-bc83-9306db0b79db",
   "metadata": {},
   "outputs": [
    {
     "data": {
      "text/plain": [
       "{'USDT': -2482.879264050001,\n",
       " 'EUR': -9770.0,\n",
       " 'ETH': 1.8640342900000002,\n",
       " 'BTC': -0.0003985,\n",
       " 'XRP': 4.570655500000015,\n",
       " 'MNGO': -0.01579000000000974,\n",
       " 'BNB': 2.4608411500000007,\n",
       " 'STARS': 0.3686519999999973,\n",
       " 'SOL': 6.26,\n",
       " 'ALCX': 0.338,\n",
       " 'AVAX': 0.2}"
      ]
     },
     "execution_count": 11,
     "metadata": {},
     "output_type": "execute_result"
    }
   ],
   "source": [
    "wallet_out"
   ]
  },
  {
   "cell_type": "code",
   "execution_count": 12,
   "id": "06b8c3ec-7542-43ea-84e1-d74ae3c8f982",
   "metadata": {},
   "outputs": [
    {
     "data": {
      "text/plain": [
       "{'USD': -8460.119973489147,\n",
       " 'ATOM-PERP': 149.47,\n",
       " 'BTC-PERP': 0.1,\n",
       " 'AR-PERP': 102.70000000000002,\n",
       " 'C98-PERP': 55.0,\n",
       " 'LOOKS-PERP': 1952.0,\n",
       " 'GMT-PERP': 871.0,\n",
       " 'BTC-MOVE-WK-0617': -0.1513,\n",
       " 'BTC-MOVE-0611': -0.41140000000000004}"
      ]
     },
     "execution_count": 12,
     "metadata": {},
     "output_type": "execute_result"
    }
   ],
   "source": [
    "wallet_derivative"
   ]
  },
  {
   "cell_type": "code",
   "execution_count": 13,
   "id": "ce51b36d-5247-4f25-ae69-fa588189004e",
   "metadata": {},
   "outputs": [
    {
     "data": {
      "text/plain": [
       "{'USDT': -0.829897157535,\n",
       " 'AAVE': -0.0026490655,\n",
       " 'BNB': -0.0020340545,\n",
       " 'ETH': -0.00192804875,\n",
       " 'FTT': -0.017202315,\n",
       " 'LINK': -0.018715094999999998,\n",
       " 'RUNE': -0.053673385,\n",
       " 'SOL': -0.01209369,\n",
       " 'TRX': -12.911670399999998,\n",
       " 'USD': -477.00525377746607,\n",
       " 'MATIC': -0.24224050000000003,\n",
       " 'XAUT': -0.0012065706800000004,\n",
       " 'ENJ': -0.29378940000000003,\n",
       " 'DOGE': -0.206416,\n",
       " 'TSLA': -0.00013965,\n",
       " 'XRP': -0.8728191500000001,\n",
       " 'UNI': -0.006902035,\n",
       " 'CEL': -0.000836,\n",
       " 'AKRO': -0.290966,\n",
       " 'DYDX': -0.00019,\n",
       " 'C98': -0.002888,\n",
       " 'MNGO': -0.030685,\n",
       " 'LRC': -0.005415,\n",
       " 'FTM': -0.0034295,\n",
       " 'LUNC': -0.366308505}"
      ]
     },
     "execution_count": 13,
     "metadata": {},
     "output_type": "execute_result"
    }
   ],
   "source": [
    "wallet_fee"
   ]
  },
  {
   "cell_type": "code",
   "execution_count": 14,
   "id": "eaeb901d-0689-4d65-936a-51b27349a5d4",
   "metadata": {},
   "outputs": [],
   "source": [
    "client = ftx.FtxClient()\n",
    "\n",
    "# client.get_trades('BTC/USD', 2, datetime.datetime(2021, 1, 1).timestamp(), datetime.datetime(2021, 1, 2).timestamp())\n",
    "\n",
    "def eval_wallet(w):\n",
    "    total = 0\n",
    "    for k in w.keys():\n",
    "        if '-' in k:\n",
    "            orderbook = client.get_orderbook(k, 1)\n",
    "            value = np.mean(np.concatenate([np.array(orderbook['bids'])[:, 0], np.array(orderbook['asks'])[:, 0]]))\n",
    "        elif k != 'USD':\n",
    "            orderbook = client.get_orderbook(f'{k}/USD', 1)\n",
    "            if orderbook['bids'] == [] or orderbook['asks'] == []:\n",
    "                value = 0\n",
    "            else:\n",
    "                value = np.mean(np.concatenate([np.array(orderbook['bids'])[:, 0], np.array(orderbook['asks'])[:, 0]]))\n",
    "        else:\n",
    "            value = 1.0\n",
    "\n",
    "        total += w[k] * value\n",
    "    return total"
   ]
  },
  {
   "cell_type": "code",
   "execution_count": 15,
   "id": "305a5ed6-1749-477a-97f8-648ef13b3cc0",
   "metadata": {},
   "outputs": [],
   "source": [
    "value_wallet = eval_wallet(wallet)\n",
    "value_wallet_derivative = eval_wallet(wallet_derivative)\n",
    "value_wallet_fee = eval_wallet(wallet_fee)\n",
    "value_wallet_out = eval_wallet(wallet_out)"
   ]
  },
  {
   "cell_type": "code",
   "execution_count": 16,
   "id": "efae0e68-cf6e-4b18-94f6-04fca34ff569",
   "metadata": {},
   "outputs": [
    {
     "name": "stdout",
     "output_type": "stream",
     "text": [
      "wallet value                     : 2370.6\n",
      "wallet 'out' value               : -9022.76\n",
      "results                          : -6652.16\n",
      "fee sum                          : -486.69\n",
      "derivative                       : 40.66 %\n"
     ]
    }
   ],
   "source": [
    "results = value_wallet + value_wallet_out\n",
    "print(\"wallet value\".ljust(32), ':', round(value_wallet, 2))\n",
    "print(\"wallet 'out' value\".ljust(32), ':', round(value_wallet_out, 2))\n",
    "print(\"results\".ljust(32), ':', round(results, 2))\n",
    "print(\"fee sum\".ljust(32), ':', round(value_wallet_fee, 2))\n",
    "print(\"derivative\".ljust(32), ':', round((1-((results - value_wallet_derivative) / results))*100, 2), '%')"
   ]
  },
  {
   "cell_type": "code",
   "execution_count": null,
   "id": "b941c68c-d928-48e8-abe1-071dfa385509",
   "metadata": {},
   "outputs": [],
   "source": []
  }
 ],
 "metadata": {
  "kernelspec": {
   "display_name": "Python 3 (ipykernel)",
   "language": "python",
   "name": "python3"
  },
  "language_info": {
   "codemirror_mode": {
    "name": "ipython",
    "version": 3
   },
   "file_extension": ".py",
   "mimetype": "text/x-python",
   "name": "python",
   "nbconvert_exporter": "python",
   "pygments_lexer": "ipython3",
   "version": "3.7.9"
  }
 },
 "nbformat": 4,
 "nbformat_minor": 5
}
