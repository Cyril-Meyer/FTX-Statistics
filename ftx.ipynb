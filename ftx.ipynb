{
 "cells": [
  {
   "cell_type": "code",
   "execution_count": null,
   "id": "b2dc135c-16c7-4e67-af47-32060ede62df",
   "metadata": {},
   "outputs": [],
   "source": [
    "import datetime\n",
    "import matplotlib.pyplot as plt\n",
    "import numpy as np\n",
    "import pandas as pd\n",
    "import ftx"
   ]
  },
  {
   "cell_type": "code",
   "execution_count": null,
   "id": "2629861e-4d8f-412a-b6ec-b6488cae6e91",
   "metadata": {},
   "outputs": [],
   "source": [
    "df = pd.read_csv('trades_1.csv')\n",
    "df = df.iloc[::-1]\n",
    "df.head(0)"
   ]
  },
  {
   "cell_type": "code",
   "execution_count": null,
   "id": "d4d0cd36-31f0-482a-b2bf-3768de12bf2a",
   "metadata": {},
   "outputs": [],
   "source": [
    "df_deposits = pd.read_csv('deposits.csv')\n",
    "df_deposits = df_deposits.iloc[::-1]\n",
    "df_deposits.head(0)"
   ]
  },
  {
   "cell_type": "code",
   "execution_count": null,
   "id": "35614658-6e51-4e99-9c6d-c5ec3af98094",
   "metadata": {},
   "outputs": [],
   "source": [
    "df_withdrawals = pd.read_csv('withdrawals.csv')\n",
    "df_withdrawals = df_withdrawals.iloc[::-1]\n",
    "df_withdrawals.head(0)"
   ]
  },
  {
   "cell_type": "code",
   "execution_count": null,
   "id": "5f9adf9d-5ff3-4e80-b8c2-b58b1bb78ef4",
   "metadata": {},
   "outputs": [],
   "source": [
    "wallet = {}\n",
    "\n",
    "for index, row in df.iterrows():\n",
    "    # spot\n",
    "    if '/' in row.Market:\n",
    "        asset, currency = row.Market.split('/')\n",
    "\n",
    "        if currency not in wallet.keys():\n",
    "            wallet[currency] = 0\n",
    "        if asset not in wallet.keys():\n",
    "            wallet[asset] = 0\n",
    "\n",
    "        if row.Side == 'buy':\n",
    "            wallet[currency] -= row.Total\n",
    "            wallet[asset] += row.Size\n",
    "        elif row.Side == 'sell':\n",
    "            wallet[currency] += row.Total\n",
    "            wallet[asset] -= row.Size\n",
    "        else:\n",
    "            raise ValueError\n",
    "\n",
    "        wallet[row['Fee Currency']] -= row.Fee\n",
    "    # derivative\n",
    "    elif '-' in row.Market:\n",
    "        assert(row['Fee Currency'] == 'USD')\n",
    "        \n",
    "        if row.Market not in wallet.keys():\n",
    "            wallet[row.Market] = 0\n",
    "            \n",
    "        if row.Side == 'buy':\n",
    "            wallet['USD'] -= row.Total\n",
    "            wallet[row.Market] += row.Size\n",
    "        elif row.Side == 'sell':\n",
    "            wallet['USD'] += row.Total\n",
    "            wallet[row.Market] -= row.Size\n",
    "        else:\n",
    "            raise ValueError\n",
    "            \n",
    "        wallet[row['Fee Currency']] -= row.Fee\n",
    "    else:\n",
    "        print(\"ERROR:\")\n",
    "        print(row)\n",
    "        raise NotImplementedError\n",
    "        "
   ]
  },
  {
   "cell_type": "code",
   "execution_count": null,
   "id": "de29f623-3910-4369-b4f9-0212985c6170",
   "metadata": {},
   "outputs": [],
   "source": [
    "wallet_derivative = {'USD' : 0}\n",
    "\n",
    "for index, row in df.iterrows():\n",
    "    # derivative\n",
    "    if '-' in row.Market:\n",
    "        if row.Market not in wallet_derivative.keys():\n",
    "            wallet_derivative[row.Market] = 0\n",
    "\n",
    "        assert(row['Fee Currency'] == 'USD')\n",
    "            \n",
    "        if row.Side == 'buy':\n",
    "            wallet_derivative['USD'] -= row.Total\n",
    "            wallet_derivative[row.Market] += row.Size\n",
    "        elif row.Side == 'sell':\n",
    "            wallet_derivative['USD'] += row.Total\n",
    "            wallet_derivative[row.Market] -= row.Size\n",
    "        else:\n",
    "            raise ValueError\n",
    "            \n",
    "        wallet_derivative[row['Fee Currency']] -= row.Fee\n"
   ]
  },
  {
   "cell_type": "code",
   "execution_count": null,
   "id": "77ff2d8f-9304-45de-b575-42d35c211484",
   "metadata": {},
   "outputs": [],
   "source": [
    "wallet_fee = {}\n",
    "\n",
    "for index, row in df.iterrows():\n",
    "    # spot\n",
    "    if '/' in row.Market:\n",
    "        asset, currency = row.Market.split('/')\n",
    "\n",
    "        if currency not in wallet_fee.keys():\n",
    "            wallet_fee[currency] = 0\n",
    "        if asset not in wallet_fee.keys():\n",
    "            wallet_fee[asset] = 0\n",
    "\n",
    "        wallet_fee[row['Fee Currency']] -= row.Fee\n",
    "    # derivative\n",
    "    elif '-' in row.Market:\n",
    "        assert(row['Fee Currency'] == 'USD')\n",
    "        \n",
    "        if row.Market not in wallet_fee.keys():\n",
    "            wallet_fee[row.Market] = 0\n",
    "            \n",
    "        wallet_fee[row['Fee Currency']] -= row.Fee\n",
    "    else:\n",
    "        print(\"ERROR:\")\n",
    "        print(row)\n",
    "        raise NotImplementedError\n",
    "        "
   ]
  },
  {
   "cell_type": "code",
   "execution_count": null,
   "id": "00dd6652-fd17-42f5-b44d-fd2f0d24c3e0",
   "metadata": {},
   "outputs": [],
   "source": [
    "wallet_out = {}\n",
    "\n",
    "for index, row in df_deposits.iterrows():\n",
    "    if row.Coin not in wallet.keys():\n",
    "        wallet[row.Coin] = 0\n",
    "    if row.Coin not in wallet_out.keys():\n",
    "        wallet_out[row.Coin] = 0\n",
    "        \n",
    "    wallet[row.Coin] += row.Amount\n",
    "    wallet_out[row.Coin] -= row.Amount\n",
    "    \n",
    "    \n",
    "for index, row in df_withdrawals.iterrows():\n",
    "    if row.Coin not in wallet.keys():\n",
    "        wallet[row.Coin] = 0\n",
    "    if row.Coin not in wallet_out.keys():\n",
    "        wallet_out[row.Coin] = 0\n",
    "        \n",
    "    wallet[row.Coin] -= row.Amount\n",
    "    wallet_out[row.Coin] += row.Amount - row.fee"
   ]
  },
  {
   "cell_type": "code",
   "execution_count": null,
   "id": "ef2a961a-81f1-4c11-b099-9c398faf6cc0",
   "metadata": {},
   "outputs": [],
   "source": [
    "epsilon = 1e-4\n",
    "wallet = {key:val for key, val in wallet.items() if val > epsilon or val < -epsilon}\n",
    "wallet_derivative = {key:val for key, val in wallet_derivative.items() if val > epsilon or val < -epsilon}\n",
    "wallet_fee = {key:val for key, val in wallet_fee.items() if val > epsilon or val < -epsilon}\n",
    "wallet_out = {key:val for key, val in wallet_out.items() if val > epsilon or val < -epsilon}"
   ]
  },
  {
   "cell_type": "code",
   "execution_count": null,
   "id": "1b5dc80e-c4b7-412c-80bc-0d4b2291a63d",
   "metadata": {},
   "outputs": [],
   "source": [
    "wallet"
   ]
  },
  {
   "cell_type": "code",
   "execution_count": null,
   "id": "acc5abd3-943f-4a9d-bc83-9306db0b79db",
   "metadata": {},
   "outputs": [],
   "source": [
    "wallet_out"
   ]
  },
  {
   "cell_type": "code",
   "execution_count": null,
   "id": "06b8c3ec-7542-43ea-84e1-d74ae3c8f982",
   "metadata": {},
   "outputs": [],
   "source": [
    "wallet_derivative"
   ]
  },
  {
   "cell_type": "code",
   "execution_count": null,
   "id": "ce51b36d-5247-4f25-ae69-fa588189004e",
   "metadata": {},
   "outputs": [],
   "source": [
    "wallet_fee"
   ]
  },
  {
   "cell_type": "code",
   "execution_count": null,
   "id": "eaeb901d-0689-4d65-936a-51b27349a5d4",
   "metadata": {},
   "outputs": [],
   "source": [
    "client = ftx.FtxClient()\n",
    "\n",
    "# client.get_trades('BTC/USD', 2, datetime.datetime(2021, 1, 1).timestamp(), datetime.datetime(2021, 1, 2).timestamp())\n",
    "\n",
    "def eval_wallet(w):\n",
    "    total = 0\n",
    "    for k in w.keys():\n",
    "        if '-' in k:\n",
    "            orderbook = client.get_orderbook(k, 1)\n",
    "            value = np.mean(np.concatenate([np.array(orderbook['bids'])[:, 0], np.array(orderbook['asks'])[:, 0]]))\n",
    "        elif k != 'USD':\n",
    "            orderbook = client.get_orderbook(f'{k}/USD', 1)\n",
    "            if orderbook['bids'] == [] or orderbook['asks'] == []:\n",
    "                value = 0\n",
    "            else:\n",
    "                value = np.mean(np.concatenate([np.array(orderbook['bids'])[:, 0], np.array(orderbook['asks'])[:, 0]]))\n",
    "        else:\n",
    "            value = 1.0\n",
    "\n",
    "        total += w[k] * value\n",
    "    return total"
   ]
  },
  {
   "cell_type": "code",
   "execution_count": null,
   "id": "305a5ed6-1749-477a-97f8-648ef13b3cc0",
   "metadata": {},
   "outputs": [],
   "source": [
    "value_wallet = eval_wallet(wallet)\n",
    "value_wallet_derivative = eval_wallet(wallet_derivative)\n",
    "value_wallet_fee = eval_wallet(wallet_fee)\n",
    "value_wallet_out = eval_wallet(wallet_out)"
   ]
  },
  {
   "cell_type": "code",
   "execution_count": null,
   "id": "efae0e68-cf6e-4b18-94f6-04fca34ff569",
   "metadata": {},
   "outputs": [],
   "source": [
    "results = value_wallet + value_wallet_out\n",
    "print(\"wallet value\".ljust(32), ':', round(value_wallet, 2))\n",
    "print(\"wallet 'out' value\".ljust(32), ':', round(value_wallet_out, 2))\n",
    "print(\"results\".ljust(32), ':', round(results, 2))\n",
    "print(\"fee sum\".ljust(32), ':', round(value_wallet_fee, 2))\n",
    "print(\"derivative\".ljust(32), ':', round((1-((results - value_wallet_derivative) / results))*100, 2), '%')"
   ]
  },
  {
   "cell_type": "code",
   "execution_count": null,
   "id": "b941c68c-d928-48e8-abe1-071dfa385509",
   "metadata": {},
   "outputs": [],
   "source": []
  }
 ],
 "metadata": {
  "kernelspec": {
   "display_name": "Python 3 (ipykernel)",
   "language": "python",
   "name": "python3"
  },
  "language_info": {
   "codemirror_mode": {
    "name": "ipython",
    "version": 3
   },
   "file_extension": ".py",
   "mimetype": "text/x-python",
   "name": "python",
   "nbconvert_exporter": "python",
   "pygments_lexer": "ipython3",
   "version": "3.7.9"
  }
 },
 "nbformat": 4,
 "nbformat_minor": 5
}
